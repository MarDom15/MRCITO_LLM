{
 "cells": [
  {
   "cell_type": "code",
   "execution_count": 4,
   "metadata": {},
   "outputs": [
    {
     "name": "stdout",
     "output_type": "stream",
     "text": [
      "Index FAISS sauvegardé dans : faiss_index\n"
     ]
    }
   ],
   "source": [
    "from langchain_community.document_loaders import PyPDFLoader\n",
    "from langchain_huggingface import HuggingFaceEmbeddings\n",
    "#from langchain.embeddings import HuggingFaceEmbeddings\n",
    "from langchain.vectorstores import FAISS\n",
    "import os\n",
    "\n",
    "# Définir le chemin du fichier PDF\n",
    "pdf_path = r\"C:\\Users\\marti\\Desktop\\dataof\\MRCITO_LLM\\data\\programme_mrc.pdf\"\n",
    "\n",
    "# Vérifier si le fichier existe\n",
    "if not os.path.exists(pdf_path):\n",
    "    raise FileNotFoundError(f\"Le fichier '{pdf_path}' est introuvable.\")\n",
    "\n",
    "# Charger les documents\n",
    "loader = PyPDFLoader(pdf_path)\n",
    "documents = loader.load()\n",
    "\n",
    "# Extraire le texte des documents\n",
    "texts = [doc.page_content for doc in documents]\n",
    "\n",
    "# Créer des embeddings\n",
    "embeddings = HuggingFaceEmbeddings(model_name=\"sentence-transformers/all-MiniLM-L6-v2\")\n",
    "\n",
    "# Indexer avec FAISS\n",
    "#db = FAISS.from_texts(texts, embeddings)\n",
    "db = FAISS.load_local(\"faiss_index\", embeddings, allow_dangerous_deserialization=True)\n",
    "\n",
    "\n",
    "# Sauvegarder l'index localement\n",
    "index_path = \"faiss_index\"\n",
    "db.save_local(index_path)\n",
    "print(f\"Index FAISS sauvegardé dans : {index_path}\")\n"
   ]
  }
 ],
 "metadata": {
  "kernelspec": {
   "display_name": "mrcito",
   "language": "python",
   "name": "python3"
  },
  "language_info": {
   "codemirror_mode": {
    "name": "ipython",
    "version": 3
   },
   "file_extension": ".py",
   "mimetype": "text/x-python",
   "name": "python",
   "nbconvert_exporter": "python",
   "pygments_lexer": "ipython3",
   "version": "3.8.20"
  }
 },
 "nbformat": 4,
 "nbformat_minor": 2
}
